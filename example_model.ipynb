{
 "cells": [
  {
   "cell_type": "code",
   "execution_count": null,
   "metadata": {},
   "outputs": [],
   "source": [
    "import numpy as np\n",
    "from generator2 import gen_data\n",
    "from keras.models import Model, load_model\n",
    "from keras.optimizers import Adam, SGD\n",
    "from keras.layers import Input, Dense, Lambda, Activation, concatenate, Dropout\n",
    "from keras.callbacks import LearningRateScheduler, EarlyStopping\n",
    "from functools import partial, update_wrapper\n",
    "from itertools import chain\n",
    "from random import randint\n",
    "import activations, losses\n",
    "from keras.utils import plot_model"
   ]
  },
  {
   "cell_type": "code",
   "execution_count": 52,
   "metadata": {},
   "outputs": [],
   "source": [
    "from keras.models import Model\n",
    "from keras.layers import Conv2D, MaxPooling2D, GlobalMaxPooling2D\n",
    "from keras.layers import Activation, Dropout, Flatten, Dense"
   ]
  },
  {
   "cell_type": "code",
   "execution_count": 53,
   "metadata": {},
   "outputs": [
    {
     "name": "stdout",
     "output_type": "stream",
     "text": [
      "WARNING:tensorflow:From /home/quachb/.conda/envs/env/lib/python3.7/site-packages/tensorflow/python/framework/op_def_library.py:263: colocate_with (from tensorflow.python.framework.ops) is deprecated and will be removed in a future version.\n",
      "Instructions for updating:\n",
      "Colocations handled automatically by placer.\n",
      "WARNING:tensorflow:From /home/quachb/.conda/envs/env/lib/python3.7/site-packages/keras/backend/tensorflow_backend.py:3445: calling dropout (from tensorflow.python.ops.nn_ops) with keep_prob is deprecated and will be removed in a future version.\n",
      "Instructions for updating:\n",
      "Please use `rate` instead of `keep_prob`. Rate should be set to `rate = 1 - keep_prob`.\n",
      "__________________________________________________________________________________________________\n",
      "Layer (type)                    Output Shape         Param #     Connected to                     \n",
      "==================================================================================================\n",
      "input_1 (InputLayer)            (None, 72, 60, 2)    0                                            \n",
      "__________________________________________________________________________________________________\n",
      "conv2d_1 (Conv2D)               (None, 70, 58, 64)   1216        input_1[0][0]                    \n",
      "__________________________________________________________________________________________________\n",
      "activation_1 (Activation)       (None, 70, 58, 64)   0           conv2d_1[0][0]                   \n",
      "__________________________________________________________________________________________________\n",
      "max_pooling2d_1 (MaxPooling2D)  (None, 35, 29, 64)   0           activation_1[0][0]               \n",
      "__________________________________________________________________________________________________\n",
      "input_2 (InputLayer)            (None, 32)           0                                            \n",
      "__________________________________________________________________________________________________\n",
      "conv2d_2 (Conv2D)               (None, 33, 27, 128)  73856       max_pooling2d_1[0][0]            \n",
      "__________________________________________________________________________________________________\n",
      "dense_3 (Dense)                 (None, 256)          8448        input_2[0][0]                    \n",
      "__________________________________________________________________________________________________\n",
      "activation_2 (Activation)       (None, 33, 27, 128)  0           conv2d_2[0][0]                   \n",
      "__________________________________________________________________________________________________\n",
      "dense_4 (Dense)                 (None, 256)          65792       dense_3[0][0]                    \n",
      "__________________________________________________________________________________________________\n",
      "max_pooling2d_2 (MaxPooling2D)  (None, 16, 13, 128)  0           activation_2[0][0]               \n",
      "__________________________________________________________________________________________________\n",
      "dense_5 (Dense)                 (None, 256)          65792       dense_4[0][0]                    \n",
      "__________________________________________________________________________________________________\n",
      "conv2d_3 (Conv2D)               (None, 14, 11, 256)  295168      max_pooling2d_2[0][0]            \n",
      "__________________________________________________________________________________________________\n",
      "dense_6 (Dense)                 (None, 256)          65792       dense_5[0][0]                    \n",
      "__________________________________________________________________________________________________\n",
      "activation_3 (Activation)       (None, 14, 11, 256)  0           conv2d_3[0][0]                   \n",
      "__________________________________________________________________________________________________\n",
      "dense_7 (Dense)                 (None, 256)          65792       dense_6[0][0]                    \n",
      "__________________________________________________________________________________________________\n",
      "max_pooling2d_3 (MaxPooling2D)  (None, 7, 5, 256)    0           activation_3[0][0]               \n",
      "__________________________________________________________________________________________________\n",
      "dense_8 (Dense)                 (None, 256)          65792       dense_7[0][0]                    \n",
      "__________________________________________________________________________________________________\n",
      "global_max_pooling2d_1 (GlobalM (None, 256)          0           max_pooling2d_3[0][0]            \n",
      "__________________________________________________________________________________________________\n",
      "dense_9 (Dense)                 (None, 256)          65792       dense_8[0][0]                    \n",
      "__________________________________________________________________________________________________\n",
      "dense_1 (Dense)                 (None, 256)          65792       global_max_pooling2d_1[0][0]     \n",
      "__________________________________________________________________________________________________\n",
      "dense_10 (Dense)                (None, 256)          65792       dense_9[0][0]                    \n",
      "__________________________________________________________________________________________________\n",
      "activation_4 (Activation)       (None, 256)          0           dense_1[0][0]                    \n",
      "__________________________________________________________________________________________________\n",
      "dense_11 (Dense)                (None, 256)          65792       dense_10[0][0]                   \n",
      "__________________________________________________________________________________________________\n",
      "dense_2 (Dense)                 (None, 256)          65792       activation_4[0][0]               \n",
      "__________________________________________________________________________________________________\n",
      "dense_12 (Dense)                (None, 256)          65792       dense_11[0][0]                   \n",
      "__________________________________________________________________________________________________\n",
      "activation_5 (Activation)       (None, 256)          0           dense_2[0][0]                    \n",
      "__________________________________________________________________________________________________\n",
      "dense_13 (Dense)                (None, 256)          65792       dense_12[0][0]                   \n",
      "__________________________________________________________________________________________________\n",
      "concatenate_1 (Concatenate)     (None, 512)          0           activation_5[0][0]               \n",
      "                                                                 dense_13[0][0]                   \n",
      "__________________________________________________________________________________________________\n",
      "dense_14 (Dense)                (None, 256)          131328      concatenate_1[0][0]              \n",
      "__________________________________________________________________________________________________\n",
      "dense_15 (Dense)                (None, 128)          32896       dense_14[0][0]                   \n",
      "__________________________________________________________________________________________________\n",
      "dropout_1 (Dropout)             (None, 128)          0           dense_15[0][0]                   \n",
      "__________________________________________________________________________________________________\n",
      "dense_16 (Dense)                (None, 1)            129         dropout_1[0][0]                  \n",
      "==================================================================================================\n",
      "Total params: 1,332,545\n",
      "Trainable params: 1,332,545\n",
      "Non-trainable params: 0\n",
      "__________________________________________________________________________________________________\n"
     ]
    }
   ],
   "source": [
    "inputs = Input(shape=(72, 60, 2))\n",
    "\n",
    "x = Conv2D(64, (3, 3))(inputs)\n",
    "x = Activation('relu')(x)\n",
    "x = MaxPooling2D(pool_size=(2, 2))(x)\n",
    "\n",
    "x = Conv2D(128, (3, 3))(x)\n",
    "x = Activation('relu')(x)\n",
    "x = MaxPooling2D(pool_size=(2, 2))(x)\n",
    "\n",
    "x = Conv2D(256, (3, 3))(x)\n",
    "x = Activation('relu')(x)\n",
    "x = MaxPooling2D(pool_size=(2, 2))(x)\n",
    "\n",
    "x = GlobalMaxPooling2D()(x)\n",
    "x = Dense(256)(x)\n",
    "x = Activation('relu')(x)\n",
    "x = Dense(256)(x)\n",
    "x = Activation('relu')(x)\n",
    "\n",
    "cnn = Model(inputs, x)\n",
    "\n",
    "inp = Input(shape=(32, ))  # 'hsSM', 'hsWW3v2', 'hsALT', 'altID', 'target' -> dropped\n",
    "x = Dense(units=256, activation='relu')(inp)\n",
    "x = Dense(units=256, activation='relu')(x)\n",
    "x = Dense(units=256, activation='relu')(x)\n",
    "x = Dense(units=256, activation='relu')(x)\n",
    "x = Dense(units=256, activation='relu')(x)\n",
    "x = Dense(units=256, activation='relu')(x)\n",
    "x = Dense(units=256, activation='relu')(x)\n",
    "x = Dense(units=256, activation='relu')(x)\n",
    "x = Dense(units=256, activation='relu')(x)\n",
    "x = Dense(units=256, activation='relu')(x)\n",
    "x = Dense(units=256, activation='relu')(x)\n",
    "\n",
    "\n",
    "ann = Model(inputs=inp, outputs=x)\n",
    "\n",
    "combinedInput = concatenate([cnn.output, ann.output])\n",
    "x = Dense(256, activation=\"relu\")(combinedInput)\n",
    "x = Dense(128, activation=\"relu\")(x)\n",
    "x = Dropout(0.33716497130943546)(x)\n",
    "x = Dense(1, activation=\"softplus\")(x)\n",
    "\n",
    "\n",
    "model = Model(inputs=[cnn.input, ann.input], outputs=x)\n",
    "model.summary()\n",
    "plot_model(model, to_file='model.png')"
   ]
  },
  {
   "cell_type": "code",
   "execution_count": 54,
   "metadata": {},
   "outputs": [
    {
     "name": "stdout",
     "output_type": "stream",
     "text": [
      "WARNING:tensorflow:From /home/quachb/.conda/envs/env/lib/python3.7/site-packages/tensorflow/python/ops/math_ops.py:3066: to_int32 (from tensorflow.python.ops.math_ops) is deprecated and will be removed in a future version.\n",
      "Instructions for updating:\n",
      "Use tf.cast instead.\n",
      "WARNING:tensorflow:From /home/quachb/.conda/envs/env/lib/python3.7/site-packages/tensorflow/python/ops/math_grad.py:102: div (from tensorflow.python.ops.math_ops) is deprecated and will be removed in a future version.\n",
      "Instructions for updating:\n",
      "Deprecated in favor of operator or tf.math.divide.\n",
      "Epoch 1/123\n",
      "4442/4442 [==============================] - 435s 98ms/step - loss: 0.4846 - val_loss: 0.2282\n",
      "Epoch 2/123\n",
      "4442/4442 [==============================] - 170s 38ms/step - loss: 0.3098 - val_loss: 0.1896\n",
      "Epoch 3/123\n",
      "4442/4442 [==============================] - 170s 38ms/step - loss: 0.2795 - val_loss: 0.1676\n",
      "Epoch 4/123\n",
      "4442/4442 [==============================] - 169s 38ms/step - loss: 0.2601 - val_loss: 0.1612\n",
      "Epoch 5/123\n",
      "4442/4442 [==============================] - 173s 39ms/step - loss: 0.2495 - val_loss: 0.1564\n",
      "Epoch 6/123\n",
      "4442/4442 [==============================] - 173s 39ms/step - loss: 0.2409 - val_loss: 0.1611\n",
      "Epoch 7/123\n",
      "4442/4442 [==============================] - 173s 39ms/step - loss: 0.2329 - val_loss: 0.1476\n",
      "Epoch 8/123\n",
      "4442/4442 [==============================] - 173s 39ms/step - loss: 0.2271 - val_loss: 0.1399\n",
      "Epoch 9/123\n",
      "4442/4442 [==============================] - 170s 38ms/step - loss: 0.2217 - val_loss: 0.1359\n",
      "Epoch 10/123\n",
      "4442/4442 [==============================] - 174s 39ms/step - loss: 0.2167 - val_loss: 0.1373\n",
      "Epoch 11/123\n",
      "4442/4442 [==============================] - 170s 38ms/step - loss: 0.2393 - val_loss: 0.1527\n",
      "Epoch 12/123\n",
      "4442/4442 [==============================] - 174s 39ms/step - loss: 0.2206 - val_loss: 0.1252\n",
      "Epoch 13/123\n",
      "4442/4442 [==============================] - 175s 39ms/step - loss: 0.2052 - val_loss: 0.1201\n",
      "Epoch 14/123\n",
      "4442/4442 [==============================] - 174s 39ms/step - loss: 0.1942 - val_loss: 0.1160\n",
      "Epoch 15/123\n",
      "4442/4442 [==============================] - 173s 39ms/step - loss: 0.1859 - val_loss: 0.1154\n",
      "Epoch 16/123\n",
      "4442/4442 [==============================] - 174s 39ms/step - loss: 0.1779 - val_loss: 0.1129\n",
      "Epoch 17/123\n",
      "4442/4442 [==============================] - 172s 39ms/step - loss: 0.1718 - val_loss: 0.1089\n",
      "Epoch 18/123\n",
      "4442/4442 [==============================] - 173s 39ms/step - loss: 0.1663 - val_loss: 0.1090\n",
      "Epoch 19/123\n",
      "4442/4442 [==============================] - 171s 39ms/step - loss: 0.1608 - val_loss: 0.1085\n",
      "Epoch 20/123\n",
      "4442/4442 [==============================] - 174s 39ms/step - loss: 0.1575 - val_loss: 0.1084\n",
      "Epoch 21/123\n",
      "4442/4442 [==============================] - 173s 39ms/step - loss: 0.1484 - val_loss: 0.1021\n",
      "Epoch 22/123\n",
      "4442/4442 [==============================] - 175s 39ms/step - loss: 0.1439 - val_loss: 0.1026\n",
      "Epoch 23/123\n",
      "4442/4442 [==============================] - 175s 39ms/step - loss: 0.1397 - val_loss: 0.1028\n",
      "Epoch 24/123\n",
      "4442/4442 [==============================] - 175s 39ms/step - loss: 0.1373 - val_loss: 0.1030\n",
      "Epoch 25/123\n",
      "4442/4442 [==============================] - 175s 39ms/step - loss: 0.1347 - val_loss: 0.1021\n",
      "Epoch 26/123\n",
      "4442/4442 [==============================] - 171s 38ms/step - loss: 0.1319 - val_loss: 0.1024\n",
      "Epoch 27/123\n",
      "4442/4442 [==============================] - 178s 40ms/step - loss: 0.1298 - val_loss: 0.1026\n",
      "Epoch 28/123\n",
      "4442/4442 [==============================] - 174s 39ms/step - loss: 0.1275 - val_loss: 0.1039\n",
      "Epoch 29/123\n",
      "4442/4442 [==============================] - 176s 40ms/step - loss: 0.1254 - val_loss: 0.1052\n",
      "Epoch 30/123\n",
      "4442/4442 [==============================] - 175s 39ms/step - loss: 0.1227 - val_loss: 0.1033\n",
      "Epoch 31/123\n",
      "4442/4442 [==============================] - 177s 40ms/step - loss: 0.1200 - val_loss: 0.1040\n",
      "Epoch 32/123\n",
      "4442/4442 [==============================] - 175s 39ms/step - loss: 0.1188 - val_loss: 0.1053\n",
      "Epoch 33/123\n",
      "4442/4442 [==============================] - 178s 40ms/step - loss: 0.1161 - val_loss: 0.1056\n",
      "Epoch 34/123\n",
      "4442/4442 [==============================] - 174s 39ms/step - loss: 0.1144 - val_loss: 0.1047\n",
      "Epoch 35/123\n",
      "4442/4442 [==============================] - 176s 40ms/step - loss: 0.1123 - val_loss: 0.1077\n",
      "Epoch 36/123\n",
      "4442/4442 [==============================] - 176s 40ms/step - loss: 0.1106 - val_loss: 0.1068\n",
      "Epoch 37/123\n",
      "4442/4442 [==============================] - 174s 39ms/step - loss: 0.1092 - val_loss: 0.1099\n",
      "Epoch 38/123\n",
      "4442/4442 [==============================] - 178s 40ms/step - loss: 0.1078 - val_loss: 0.1098\n",
      "Epoch 39/123\n",
      "4442/4442 [==============================] - 175s 39ms/step - loss: 0.1064 - val_loss: 0.1096\n",
      "Epoch 40/123\n",
      "4442/4442 [==============================] - 184s 41ms/step - loss: 0.1045 - val_loss: 0.1061\n",
      "Epoch 41/123\n",
      "4442/4442 [==============================] - 172s 39ms/step - loss: 0.1033 - val_loss: 0.1071\n",
      "Epoch 42/123\n",
      "4442/4442 [==============================] - 177s 40ms/step - loss: 0.1017 - val_loss: 0.1070\n",
      "Epoch 43/123\n",
      "4442/4442 [==============================] - 177s 40ms/step - loss: 0.1001 - val_loss: 0.1077\n",
      "Epoch 44/123\n",
      "4442/4442 [==============================] - 172s 39ms/step - loss: 0.0988 - val_loss: 0.1099\n",
      "Epoch 45/123\n",
      "1222/4442 [=======>......................] - ETA: 1:47 - loss: 0.0981"
     ]
    },
    {
     "name": "stderr",
     "output_type": "stream",
     "text": [
      "IOPub message rate exceeded.\n",
      "The notebook server will temporarily stop sending output\n",
      "to the client in order to avoid crashing it.\n",
      "To change this limit, set the config variable\n",
      "`--NotebookApp.iopub_msg_rate_limit`.\n",
      "\n",
      "Current values:\n",
      "NotebookApp.iopub_msg_rate_limit=1000.0 (msgs/sec)\n",
      "NotebookApp.rate_limit_window=3.0 (secs)\n",
      "\n"
     ]
    },
    {
     "name": "stdout",
     "output_type": "stream",
     "text": [
      "4442/4442 [==============================] - 177s 40ms/step - loss: 0.0951 - val_loss: 0.1085\n",
      "Epoch 48/123\n",
      "3479/4442 [======================>.......] - ETA: 32s - loss: 0.0936"
     ]
    },
    {
     "name": "stderr",
     "output_type": "stream",
     "text": [
      "IOPub message rate exceeded.\n",
      "The notebook server will temporarily stop sending output\n",
      "to the client in order to avoid crashing it.\n",
      "To change this limit, set the config variable\n",
      "`--NotebookApp.iopub_msg_rate_limit`.\n",
      "\n",
      "Current values:\n",
      "NotebookApp.iopub_msg_rate_limit=1000.0 (msgs/sec)\n",
      "NotebookApp.rate_limit_window=3.0 (secs)\n",
      "\n"
     ]
    },
    {
     "name": "stdout",
     "output_type": "stream",
     "text": [
      "4442/4442 [==============================] - 173s 39ms/step - loss: 0.0896 - val_loss: 0.1163\n",
      "Epoch 52/123\n",
      "4442/4442 [==============================] - 186s 42ms/step - loss: 0.0545 - val_loss: 0.1216\n",
      "Epoch 97/123\n",
      "4442/4442 [==============================] - 172s 39ms/step - loss: 0.0545 - val_loss: 0.1209\n",
      "Epoch 98/123\n",
      " 519/4442 [==>...........................] - ETA: 2:12 - loss: 0.0494"
     ]
    },
    {
     "name": "stderr",
     "output_type": "stream",
     "text": [
      "IOPub message rate exceeded.\n",
      "The notebook server will temporarily stop sending output\n",
      "to the client in order to avoid crashing it.\n",
      "To change this limit, set the config variable\n",
      "`--NotebookApp.iopub_msg_rate_limit`.\n",
      "\n",
      "Current values:\n",
      "NotebookApp.iopub_msg_rate_limit=1000.0 (msgs/sec)\n",
      "NotebookApp.rate_limit_window=3.0 (secs)\n",
      "\n"
     ]
    },
    {
     "name": "stdout",
     "output_type": "stream",
     "text": [
      "4442/4442 [==============================] - 175s 39ms/step - loss: 0.0524 - val_loss: 0.1218\n",
      "Epoch 101/123\n",
      "4442/4442 [==============================] - 174s 39ms/step - loss: 0.0523 - val_loss: 0.1240\n",
      "Epoch 102/123\n",
      "4442/4442 [==============================] - 174s 39ms/step - loss: 0.0524 - val_loss: 0.1267\n",
      "Epoch 103/123\n",
      "4442/4442 [==============================] - 176s 40ms/step - loss: 0.0519 - val_loss: 0.1320\n",
      "Epoch 104/123\n",
      "4442/4442 [==============================] - 176s 40ms/step - loss: 0.0514 - val_loss: 0.1245\n",
      "Epoch 105/123\n",
      "4442/4442 [==============================] - 172s 39ms/step - loss: 0.0507 - val_loss: 0.1274\n",
      "Epoch 106/123\n",
      "4442/4442 [==============================] - 176s 40ms/step - loss: 0.0504 - val_loss: 0.1223\n",
      "Epoch 107/123\n",
      "4442/4442 [==============================] - 174s 39ms/step - loss: 0.0500 - val_loss: 0.1216\n",
      "Epoch 108/123\n",
      "4442/4442 [==============================] - 169s 38ms/step - loss: 0.0500 - val_loss: 0.1242\n",
      "Epoch 109/123\n",
      "4442/4442 [==============================] - 177s 40ms/step - loss: 0.0492 - val_loss: 0.1215\n",
      "Epoch 110/123\n",
      "4442/4442 [==============================] - 174s 39ms/step - loss: 0.0494 - val_loss: 0.1223\n",
      "Epoch 111/123\n",
      "4442/4442 [==============================] - 173s 39ms/step - loss: 0.0495 - val_loss: 0.1219\n",
      "Epoch 112/123\n",
      "4442/4442 [==============================] - 174s 39ms/step - loss: 0.0494 - val_loss: 0.1228\n",
      "Epoch 113/123\n",
      "4442/4442 [==============================] - 175s 39ms/step - loss: 0.0486 - val_loss: 0.1250\n",
      "Epoch 114/123\n",
      "4442/4442 [==============================] - 175s 40ms/step - loss: 0.0475 - val_loss: 0.1243\n",
      "Epoch 115/123\n",
      "4442/4442 [==============================] - 174s 39ms/step - loss: 0.0474 - val_loss: 0.1252\n",
      "Epoch 116/123\n",
      "4442/4442 [==============================] - 176s 40ms/step - loss: 0.0471 - val_loss: 0.1242\n",
      "Epoch 117/123\n",
      "4442/4442 [==============================] - 175s 39ms/step - loss: 0.0466 - val_loss: 0.1272\n",
      "Epoch 118/123\n",
      "4442/4442 [==============================] - 177s 40ms/step - loss: 0.0463 - val_loss: 0.1265\n",
      "Epoch 119/123\n",
      "4442/4442 [==============================] - 176s 40ms/step - loss: 0.0462 - val_loss: 0.1251\n",
      "Epoch 120/123\n",
      "4442/4442 [==============================] - 173s 39ms/step - loss: 0.0510 - val_loss: 0.1200\n",
      "Epoch 121/123\n",
      "4442/4442 [==============================] - 175s 39ms/step - loss: 0.0485 - val_loss: 0.1201\n",
      "Epoch 122/123\n",
      "4442/4442 [==============================] - 176s 40ms/step - loss: 0.0471 - val_loss: 0.1232\n",
      "Epoch 123/123\n",
      "4442/4442 [==============================] - 175s 39ms/step - loss: 0.0459 - val_loss: 0.1229\n"
     ]
    }
   ],
   "source": [
    "from keras.callbacks import EarlyStopping, ReduceLROnPlateau\n",
    "from keras.optimizers import Adam\n",
    "import h5py\n",
    "from keras.callbacks import LearningRateScheduler\n",
    "\n",
    "def step_decay_schedule(initial_lr=1e-3, decay_factor=0.40, step_size=4):\n",
    "    '''\n",
    "    Wrapper function to create a LearningRateScheduler with step decay schedule.\n",
    "    '''\n",
    "    def schedule(epoch):\n",
    "        if epoch >= 10 and epoch < 20:\n",
    "            exponent = 1\n",
    "        elif epoch >= 20 and epoch <= 118:\n",
    "            exponent = 2\n",
    "        else:\n",
    "            exponent = 3\n",
    "        return initial_lr * (decay_factor ** exponent)\n",
    "    \n",
    "    return LearningRateScheduler(schedule)\n",
    "\n",
    "reduce_lr = step_decay_schedule(initial_lr=0.00025897101528140915, decay_factor=0.40, step_size=4)\n",
    "\n",
    "opt = Adam(lr=0.00025897101528140915)\n",
    "\n",
    "\n",
    "model.compile(loss='mean_squared_error',\n",
    "              optimizer=opt)\n",
    "\n",
    "data_path = ''\n",
    "\n",
    "dataset = h5py.File(data_path, 'r')\n",
    "\n",
    "batch_size = 128\n",
    "epochs = 123\n",
    "file = data_path\n",
    "# train = datagen(gen_data, 101171//batch_size, file, 'train', batch_size)\n",
    "# val = datagen(gen_data, 28906//batch_size, file, 'val', batch_size)\n",
    "history = model.fit_generator(gen_data(file, 'train', batch_size),\n",
    "                              steps_per_epoch=dataset[\"X_train\"].shape[0]//batch_size, \n",
    "                              epochs=epochs,\n",
    "                              validation_data = gen_data(file, 'test', 1024), \n",
    "                              validation_steps=dataset[\"X_test\"].shape[0]//1024,\n",
    "                              callbacks = [reduce_lr],\n",
    "                              verbose = 1)\n",
    "model.save('hs_models/time_drift-NoVal-CWAVE2.h5')"
   ]
  },
  {
   "cell_type": "code",
   "execution_count": 55,
   "metadata": {},
   "outputs": [
    {
     "data": {
      "image/png": "[encoded data removed]",
      "text/plain": [
       "<Figure size 432x288 with 1 Axes>"
      ]
     },
     "metadata": {
      "needs_background": "light"
     },
     "output_type": "display_data"
    }
   ],
   "source": [
    "import matplotlib.pyplot as plt\n",
    "%matplotlib inline\n",
    "plt.plot(history.history['loss'])\n",
    "plt.plot(history.history['val_loss'])\n",
    "plt.title('Model Loss')\n",
    "plt.ylabel('Loss')\n",
    "plt.xlabel('Epoch')\n",
    "plt.legend(['Train', 'Test'], loc='upper left')\n",
    "plt.show();"
   ]
  },
  {
   "cell_type": "code",
   "execution_count": 56,
   "metadata": {},
   "outputs": [
    {
     "name": "stdout",
     "output_type": "stream",
     "text": [
      "181/181 [==============================] - 26s 144ms/step\n"
     ]
    }
   ],
   "source": [
    "import h5py\n",
    "# from keras.models import load_model\n",
    "import numpy as np\n",
    "\n",
    "# model = load_model('hs_models/combined1.h5')\n",
    "dataset = h5py.File(data_path, 'r')\n",
    "X = dataset['X_test']\n",
    "y_true = np.array(dataset['y_test'])\n",
    "y_pred = model.predict_generator(gen_data(data_path, 'test', 1024), steps = X.shape[0] // 1024 + 1, verbose=1)\n",
    "y_pred = y_pred[:y_true.shape[0]]"
   ]
  },
  {
   "cell_type": "code",
   "execution_count": 57,
   "metadata": {},
   "outputs": [],
   "source": [
    "residuals = y_true.reshape(-1) - y_pred.reshape(-1)"
   ]
  },
  {
   "cell_type": "code",
   "execution_count": 58,
   "metadata": {},
   "outputs": [
    {
     "name": "stdout",
     "output_type": "stream",
     "text": [
      "0.3502465884955232\n"
     ]
    }
   ],
   "source": [
    "print(np.sqrt(np.mean((residuals)**2)))"
   ]
  },
  {
   "cell_type": "code",
   "execution_count": 67,
   "metadata": {},
   "outputs": [
    {
     "data": {
      "image/png": "[encoded data removed]",
      "text/plain": [
       "<Figure size 432x288 with 1 Axes>"
      ]
     },
     "metadata": {
      "needs_background": "light"
     },
     "output_type": "display_data"
    }
   ],
   "source": [
    "import matplotlib.pyplot as plt\n",
    "plt.scatter(y_true, residuals)\n",
    "plt.title('Residuals of Test Set vs. True Label')\n",
    "plt.ylabel('Residuals (True - Prediction)')\n",
    "plt.xlabel('True Label')\n",
    "plt.show()"
   ]
  },
  {
   "cell_type": "code",
   "execution_count": 68,
   "metadata": {},
   "outputs": [
    {
     "data": {
      "image/png": "[encoded data removed]",
      "text/plain": [
       "<Figure size 432x288 with 1 Axes>"
      ]
     },
     "metadata": {
      "needs_background": "light"
     },
     "output_type": "display_data"
    }
   ],
   "source": [
    "plt.scatter(y_true, y_pred)\n",
    "plt.title('Prediction vs. True Label')\n",
    "plt.ylabel('Prediction')\n",
    "plt.xlabel('True Label')\n",
    "plt.show()"
   ]
  },
  {
   "cell_type": "code",
   "execution_count": 69,
   "metadata": {},
   "outputs": [],
   "source": [
    "hs_large = (y_true > 8).nonzero()\n",
    "large_true = y_true[hs_large]\n",
    "large_pred = y_pred[hs_large]"
   ]
  },
  {
   "cell_type": "code",
   "execution_count": 70,
   "metadata": {},
   "outputs": [],
   "source": [
    "res = large_true.reshape(-1) - large_pred.reshape(-1)"
   ]
  },
  {
   "cell_type": "code",
   "execution_count": 71,
   "metadata": {},
   "outputs": [
    {
     "name": "stdout",
     "output_type": "stream",
     "text": [
      "1.053988032031043 596\n"
     ]
    }
   ],
   "source": [
    "print(np.sqrt(np.mean((res)**2)), len(large_true))"
   ]
  },
  {
   "cell_type": "code",
   "execution_count": 72,
   "metadata": {},
   "outputs": [
    {
     "name": "stdout",
     "output_type": "stream",
     "text": [
      "0.46581795471215437 2935\n"
     ]
    }
   ],
   "source": [
    "hs_small = (y_true < 1).nonzero()\n",
    "small_true = y_true[hs_small]\n",
    "small_pred = y_pred[hs_small]\n",
    "small_res = small_true.reshape(-1) - small_pred.reshape(-1)\n",
    "print(np.sqrt(np.mean((small_res) ** 2)), len(small_true))"
   ]
  },
  {
   "cell_type": "code",
   "execution_count": 73,
   "metadata": {},
   "outputs": [
    {
     "name": "stdout",
     "output_type": "stream",
     "text": [
      "0.27475651392022976 124087\n"
     ]
    }
   ],
   "source": [
    "hs_meds = np.where(np.logical_and(y_true>1, y_true<3))\n",
    "meds_true = y_true[hs_meds]\n",
    "meds_pred = y_pred[hs_meds]\n",
    "res = meds_true.reshape(-1) - meds_pred.reshape(-1)\n",
    "print(np.sqrt(np.mean((res)**2)), len(meds_true))"
   ]
  },
  {
   "cell_type": "code",
   "execution_count": 74,
   "metadata": {},
   "outputs": [
    {
     "name": "stdout",
     "output_type": "stream",
     "text": [
      "0.44318363005862366 56959\n"
     ]
    }
   ],
   "source": [
    "hs_medl = np.where(np.logical_and(y_true>3, y_true<8))\n",
    "medl_true = y_true[hs_medl]\n",
    "medl_pred = y_pred[hs_medl]\n",
    "res = medl_true.reshape(-1) - medl_pred.reshape(-1)\n",
    "print(np.sqrt(np.mean((res)**2)), len(medl_true))"
   ]
  }
 ],
 "metadata": {
  "kernelspec": {
   "display_name": "Python (env)",
   "language": "python",
   "name": "env"
  },
  "language_info": {
   "codemirror_mode": {
    "name": "ipython",
    "version": 3
   },
   "file_extension": ".py",
   "mimetype": "text/x-python",
   "name": "python",
   "nbconvert_exporter": "python",
   "pygments_lexer": "ipython3",
   "version": "3.7.3"
  }
 },
 "nbformat": 4,
 "nbformat_minor": 2
}
